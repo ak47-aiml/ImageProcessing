{
 "cells": [
  {
   "cell_type": "markdown",
   "metadata": {},
   "source": [
    "# Image Augmentation"
   ]
  },
  {
   "cell_type": "markdown",
   "metadata": {},
   "source": [
    "<font color='steelblue'>\n",
    "\n",
    "<font size = 5>\n",
    "    <strong>Image Augmentation Example</strong><br><br>\n",
    "    Examples of number of things that can be done on an image<br><br>\n",
    "</font>\n",
    "</font>\n",
    "\n",
    "<font color = 'grey'>\n",
    "<font size = 4>\n",
    "    <b>Following examples are included in the processing:</b><br>\n",
    "    <ol>\n",
    "        <li>Read images from a folder and set class names</li>\n",
    "        <li>Apply image augmentation as these images are read</li>\n",
    "        <li>Single Image processing</li>\n",
    "        <ul>\n",
    "            <li>Read image using matplotlib library</li>\n",
    "            <li>Rotate image</li>\n",
    "            <li>Width and Height Shifting</li>\n",
    "            <li>Brightness, Shear and Zoom</li>\n",
    "            <li>Vertical Flip</li>\n",
    "            <li>Convert to Gray Scale</li>\n",
    "        </ul>\n",
    "    </ol>\n",
    "</font>\n",
    "\n",
    "</font>"
   ]
  },
  {
   "cell_type": "raw",
   "metadata": {},
   "source": [
    "%config IPCompleter.greedy = True"
   ]
  },
  {
   "cell_type": "code",
   "execution_count": null,
   "metadata": {},
   "outputs": [],
   "source": [
    "import numpy as np\n",
    "import pandas as pd\n",
    "import matplotlib.pyplot as plt\n",
    "%matplotlib inline\n",
    "\n",
    "#plt.style.use('seaborn-whitegrid')    # grids in the plots\n",
    "import warnings\n",
    "warnings.filterwarnings('ignore')\n",
    "\n",
    "import tensorflow as tf\n",
    "from tensorflow.keras.preprocessing.image import ImageDataGenerator\n",
    "from matplotlib.pyplot import imread, imshow, subplots, show\n",
    "import matplotlib.image as mpimg"
   ]
  },
  {
   "cell_type": "markdown",
   "metadata": {},
   "source": [
    "## Import Images from Folder<br>\n",
    "\n",
    "<font size = 3>\n",
    "\n",
    "Often as part of image processing, the data might be defined in different sub-folders.<br>\n",
    "\n",
    "**In the following example, will look at:**\n",
    "- Explore the folders and sub-folders\n",
    "- Extract the class names (image categories)\n",
    "    \n",
    "</font>"
   ]
  },
  {
   "cell_type": "code",
   "execution_count": null,
   "metadata": {},
   "outputs": [],
   "source": [
    "# explore the folders & sub-folders\n",
    "import os\n",
    "\n",
    "for dirpath, dirnames, filenames in os.walk(\"../datasets/images/\"):\n",
    "    print(f'There are {len(dirnames)} directories and {len(filenames)} images in {dirpath}')"
   ]
  },
  {
   "cell_type": "code",
   "execution_count": null,
   "metadata": {},
   "outputs": [],
   "source": [
    "# define path\n",
    "imagesPath = \"../datasets/images/types/\""
   ]
  },
  {
   "cell_type": "code",
   "execution_count": null,
   "metadata": {},
   "outputs": [],
   "source": [
    "import pathlib\n",
    "dataDir = pathlib.Path(imagesPath)\n",
    "\n",
    "classNames = np.array(sorted([item.name for item in dataDir.glob('*')]))\n",
    "print(classNames)"
   ]
  },
  {
   "cell_type": "code",
   "execution_count": null,
   "metadata": {},
   "outputs": [],
   "source": [
    "# function to plot images\n",
    "def plotImages(imgFiles, classnames):\n",
    "    \"\"\"\n",
    "    plotImages: Plot images based on file names provided\n",
    "    imgFiles: list of filenames (full path)\n",
    "    classnames: class names associated with each file\n",
    "    NOTE: this function assumes that for each class there are 5 files\n",
    "    \"\"\"\n",
    "    cidx = -1\n",
    "    for i in range(len(imgFiles)):\n",
    "        if i % 5 == 0:\n",
    "            cidx = cidx + 1\n",
    "        filename = imgFiles[i]\n",
    "        #print(imgFiles[i])\n",
    "        ax = plt.subplot(6, 5,i + 1)\n",
    "        data = mpimg.imread(filename)\n",
    "        dshape = data.shape\n",
    "        plt.imshow(data)\n",
    "        # print the class name and the shape of image\n",
    "        plt.title(f\"{classnames[cidx]}\\n{dshape}\")\n",
    "        plt.xticks([])\n",
    "        plt.yticks([])\n",
    "        plt.xlabel(data.shape)\n",
    "        plt.grid(False)\n",
    "        plt.axis('off');"
   ]
  },
  {
   "cell_type": "code",
   "execution_count": null,
   "metadata": {},
   "outputs": [],
   "source": [
    "# function to plot images\n",
    "def plotPerClass(imgFiles, cname):\n",
    "    \"\"\"\n",
    "    plotPerClass: Plot images per class name\n",
    "    imgFiles: list of filenames (full path)\n",
    "    cname: class name\n",
    "    NOTE: this function assumes that for each class there are 5 files\n",
    "    \"\"\"\n",
    "    startindex = -1\n",
    "    for i, name in enumerate(classNames):\n",
    "        if name == cname:\n",
    "            startindex = i * 5\n",
    "    endindex = startindex + 5\n",
    "    #print(f\"{startindex}, {endindex}\")\n",
    "    filenames = []\n",
    "    for i in range(startindex, endindex):\n",
    "        filenames.append(imgFiles[i])\n",
    "\n",
    "    for i, afile in enumerate(filenames):\n",
    "        ax = plt.subplot(1, 5, i + 1)\n",
    "        data = mpimg.imread(afile)\n",
    "        plt.imshow(data)\n",
    "        plt.title(f\"{cname}\\n{data.shape}\")\n",
    "        plt.xticks([])\n",
    "        plt.yticks([])\n",
    "        plt.grid(False)\n",
    "        plt.axis('off');"
   ]
  },
  {
   "cell_type": "code",
   "execution_count": null,
   "metadata": {},
   "outputs": [],
   "source": [
    "# get all the file names to be plotted\n",
    "\n",
    "imgFiles = []\n",
    "for name in classNames:\n",
    "    folder = imagesPath + name\n",
    "    files = os.listdir(folder)\n",
    "    for afile in files:\n",
    "        fname = folder + \"/\" + afile\n",
    "        imgFiles.append(fname)"
   ]
  },
  {
   "cell_type": "code",
   "execution_count": null,
   "metadata": {},
   "outputs": [],
   "source": [
    "plt.figure(figsize = (18, 18))\n",
    "plotImages(imgFiles, classNames)"
   ]
  },
  {
   "cell_type": "markdown",
   "metadata": {},
   "source": [
    "## Image Augmentation<br>\n",
    "\n",
    "<font size = \"3\">\n",
    "\n",
    "**Data or in this case image augmentation is a process of altering the training data, that will help with:**\n",
    "- adding more diversity to the data so that the model can learn more generalization\n",
    "- might show data in a \"real world\" like scanrios\n",
    "\n",
    "**Following is included in the example below:**\n",
    "\n",
    "- **rotation_range:** rotate image between 0 and x degrees\n",
    "- **shear_range:** shear the image\n",
    "- **zoom_range:** zoom into the image\n",
    "- **width_shift_range:** shift the image width ways\n",
    "- **height_shift_range:** shift the image height ways\n",
    "- **horizontal_flip:** flip image on the horizontal axis\n",
    "\n",
    "<font size = \"3\">\n",
    "    \n",
    "[Documentation - Data Augmentation](https://www.tensorflow.org/tutorials/images/data_augmentation)\n",
    "</font>"
   ]
  },
  {
   "cell_type": "code",
   "execution_count": null,
   "metadata": {},
   "outputs": [],
   "source": [
    "imgAugmented = ImageDataGenerator(rotation_range =  20,\n",
    "                                 shear_range = 0.3,\n",
    "                                 zoom_range = 0.5,\n",
    "                                 width_shift_range = 0.4,\n",
    "                                 height_shift_range = 0.3, \n",
    "                                 horizontal_flip = True)"
   ]
  },
  {
   "cell_type": "markdown",
   "metadata": {},
   "source": [
    "### Apply the image data generator while reading the files from directory"
   ]
  },
  {
   "cell_type": "code",
   "execution_count": null,
   "metadata": {},
   "outputs": [],
   "source": [
    "images = imgAugmented.flow_from_directory(imagesPath,\n",
    "                                          target_size = (224, 224),\n",
    "                                          shuffle = False, \n",
    "                                          batch_size = 5)"
   ]
  },
  {
   "cell_type": "code",
   "execution_count": null,
   "metadata": {},
   "outputs": [],
   "source": [
    "print(type(images))"
   ]
  },
  {
   "cell_type": "code",
   "execution_count": null,
   "metadata": {},
   "outputs": [],
   "source": [
    "# function to plot augmented images\n",
    "def plotAugImages(imgs, classindex):\n",
    "    for i in range(5):\n",
    "        ax = plt.subplot(5, 5,i + 1)\n",
    "        plt.imshow(imgs[i].astype('uint8'))\n",
    "        plt.title(f\"{classNames[classindex]}\\n{imgs[i].shape}\")\n",
    "        plt.axis('off');"
   ]
  },
  {
   "cell_type": "markdown",
   "metadata": {},
   "source": [
    "### Plot the augmented images"
   ]
  },
  {
   "cell_type": "code",
   "execution_count": null,
   "metadata": {},
   "outputs": [],
   "source": [
    "plt.figure(figsize = (18, 18))\n",
    "augImages, augLabels = images.next()\n",
    "idx = tf.argmax(augLabels[0]).numpy()\n",
    "plotAugImages(augImages, idx)"
   ]
  },
  {
   "cell_type": "markdown",
   "metadata": {},
   "source": [
    "### Compare with original images"
   ]
  },
  {
   "cell_type": "code",
   "execution_count": null,
   "metadata": {},
   "outputs": [],
   "source": [
    "plt.figure(figsize = (18, 18))\n",
    "cname = classNames[idx]\n",
    "plotPerClass(imgFiles, cname)"
   ]
  },
  {
   "cell_type": "code",
   "execution_count": null,
   "metadata": {},
   "outputs": [],
   "source": [
    "plt.figure(figsize = (18, 18))\n",
    "augImages, augLabels = images.next()\n",
    "idx = tf.argmax(augLabels[0]).numpy()\n",
    "plotAugImages(augImages, idx)"
   ]
  },
  {
   "cell_type": "code",
   "execution_count": null,
   "metadata": {},
   "outputs": [],
   "source": [
    "plt.figure(figsize = (18, 18))\n",
    "cname = classNames[idx]\n",
    "plotPerClass(imgFiles, cname)"
   ]
  },
  {
   "cell_type": "markdown",
   "metadata": {},
   "source": [
    "## Single image processing"
   ]
  },
  {
   "cell_type": "markdown",
   "metadata": {},
   "source": [
    "### Read the image"
   ]
  },
  {
   "cell_type": "code",
   "execution_count": null,
   "metadata": {},
   "outputs": [],
   "source": [
    "image = imread('../datasets/home-4.jpg')\n",
    "# image = imread('../datasets/dog.jpg')"
   ]
  },
  {
   "cell_type": "code",
   "execution_count": null,
   "metadata": {},
   "outputs": [],
   "source": [
    "# Shape of our RGB image\n",
    "image.shape[0], image.shape[1], image.shape[2]"
   ]
  },
  {
   "cell_type": "code",
   "execution_count": null,
   "metadata": {},
   "outputs": [],
   "source": [
    "print(type(image))"
   ]
  },
  {
   "cell_type": "code",
   "execution_count": null,
   "metadata": {},
   "outputs": [],
   "source": [
    "# Creating a dataset which contains just one image\n",
    "images = image.reshape((1, image.shape[0], image.shape[1], image.shape[2]))"
   ]
  },
  {
   "cell_type": "code",
   "execution_count": null,
   "metadata": {},
   "outputs": [],
   "source": [
    "print(type(images))"
   ]
  },
  {
   "cell_type": "code",
   "execution_count": null,
   "metadata": {},
   "outputs": [],
   "source": [
    "images.shape"
   ]
  },
  {
   "cell_type": "code",
   "execution_count": null,
   "metadata": {},
   "outputs": [],
   "source": [
    "imshow(images[0])\n",
    "show()"
   ]
  },
  {
   "cell_type": "code",
   "execution_count": null,
   "metadata": {},
   "outputs": [],
   "source": [
    "# Function to fit and plot images defined by the data_generator parameter\n",
    "def plot(data_generator, nimages = 4):\n",
    "    \"\"\"\n",
    "    Plots 4 images generated by an object of the ImageDataGenerator class.\n",
    "    \"\"\"\n",
    "    data_generator.fit(images)\n",
    "    image_iterator = data_generator.flow(images)\n",
    "    \n",
    "    # Plot the images given by the iterator\n",
    "    fig, rows = subplots(nrows=1, ncols = nimages, figsize=(18,18))\n",
    "    for row in rows:\n",
    "        row.imshow(image_iterator.next()[0].astype('int'))\n",
    "        row.axis('off')\n",
    "    show()"
   ]
  },
  {
   "cell_type": "markdown",
   "metadata": {},
   "source": [
    "## Image Rotation<br>\n",
    "<font color='gray'>\n",
    "<span style=\"font-family:Arial; font-size:14pt; font-style:bold\">\n",
    "    rotation_range - randomly rotates the image between positive and negative range in degrees\n",
    "</span>\n",
    "</font>"
   ]
  },
  {
   "cell_type": "code",
   "execution_count": null,
   "metadata": {},
   "outputs": [],
   "source": [
    "data_generator = ImageDataGenerator(rotation_range = 45)"
   ]
  },
  {
   "cell_type": "code",
   "execution_count": null,
   "metadata": {},
   "outputs": [],
   "source": [
    "plot(data_generator)"
   ]
  },
  {
   "cell_type": "markdown",
   "metadata": {},
   "source": [
    "## Width Shifting<br>\n",
    "<font color='gray'>\n",
    "<span style=\"font-family:Arial; font-size:14pt; font-style:bold\">\n",
    "    width_shift - randomly shifts the image to the left or the right by a fraction of the total width provided by the upper bound of a number between 0.0 and 1.0\n",
    "</span>\n",
    "</font>"
   ]
  },
  {
   "cell_type": "code",
   "execution_count": null,
   "metadata": {},
   "outputs": [],
   "source": [
    "data_generator = ImageDataGenerator(width_shift_range=0.3)"
   ]
  },
  {
   "cell_type": "code",
   "execution_count": null,
   "metadata": {},
   "outputs": [],
   "source": [
    "plot(data_generator)"
   ]
  },
  {
   "cell_type": "markdown",
   "metadata": {},
   "source": [
    "## Height Shifting<br>\n",
    "<font color='gray'>\n",
    "<span style=\"font-family:Arial; font-size:14pt; font-style:bold\">\n",
    "    height_shift - randomly shifts the image to the virtically by a fraction of the total width provided by the upper bound of a number between 0.0 and 1.0\n",
    "</span>\n",
    "</font>"
   ]
  },
  {
   "cell_type": "code",
   "execution_count": null,
   "metadata": {},
   "outputs": [],
   "source": [
    "data_generator = ImageDataGenerator(height_shift_range=0.4)"
   ]
  },
  {
   "cell_type": "code",
   "execution_count": null,
   "metadata": {},
   "outputs": [],
   "source": [
    "plot(data_generator)"
   ]
  },
  {
   "cell_type": "markdown",
   "metadata": {},
   "source": [
    "## Brightness<br>\n",
    "<font color='gray'>\n",
    "<span style=\"font-family:Arial; font-size:14pt; font-style:bold\">\n",
    "    brightness_range - The brightness_range specifies the range for randomly picking a brightness shift value from. A brightness of 0.0 corresponds to absolutely no brightness, and 1.0 corresponds to maximum brightness.\n",
    "</span>\n",
    "</font>"
   ]
  },
  {
   "cell_type": "code",
   "execution_count": null,
   "metadata": {},
   "outputs": [],
   "source": [
    "data_generator = ImageDataGenerator(brightness_range=(0.2, 0.6))"
   ]
  },
  {
   "cell_type": "code",
   "execution_count": null,
   "metadata": {},
   "outputs": [],
   "source": [
    "plot(data_generator)"
   ]
  },
  {
   "cell_type": "markdown",
   "metadata": {},
   "source": [
    "## Shear<br>\n",
    "<font color='gray'>\n",
    "<span style=\"font-family:Arial; font-size:14pt; font-style:bold\">\n",
    "    shear_range - Unlike rotation where the angle of the image changes, here one axis is fixed and the image is stretched at a shear angle. Shear_range specifies the angle of the slant in degrees\n",
    "</span>\n",
    "</font>"
   ]
  },
  {
   "cell_type": "code",
   "execution_count": null,
   "metadata": {},
   "outputs": [],
   "source": [
    "data_generator = ImageDataGenerator(shear_range=30.0)"
   ]
  },
  {
   "cell_type": "code",
   "execution_count": null,
   "metadata": {},
   "outputs": [],
   "source": [
    "plot(data_generator)"
   ]
  },
  {
   "cell_type": "markdown",
   "metadata": {},
   "source": [
    "## Zoom<br>\n",
    "<font color='gray'>\n",
    "<span style=\"font-family:Arial; font-size:14pt; font-style:bold\">\n",
    "    zoom_range - A zoom less than 1.0 magnifies the image, where as zoom greater than 1.0 zooms out the image, zoom_range provides that random zoom paramter\n",
    "</span>\n",
    "</font>"
   ]
  },
  {
   "cell_type": "code",
   "execution_count": null,
   "metadata": {},
   "outputs": [],
   "source": [
    "data_generator = ImageDataGenerator(zoom_range=[0.5, 1.5])"
   ]
  },
  {
   "cell_type": "code",
   "execution_count": null,
   "metadata": {},
   "outputs": [],
   "source": [
    "plot(data_generator)"
   ]
  },
  {
   "cell_type": "markdown",
   "metadata": {},
   "source": [
    "## Vertical Flip<br>\n",
    "<font color='gray'>\n",
    "<span style=\"font-family:Arial; font-size:14pt; font-style:bold\">\n",
    "    vertical_flip - Unlike rotation where the angle of the image changes, here one axis is fixed and the image is stretched at a shear angle. Shear_range specifies the agnel of the slant in degrees\n",
    "</span>\n",
    "</font>"
   ]
  },
  {
   "cell_type": "code",
   "execution_count": null,
   "metadata": {},
   "outputs": [],
   "source": [
    "data_generator = ImageDataGenerator(vertical_flip=True)"
   ]
  },
  {
   "cell_type": "code",
   "execution_count": null,
   "metadata": {},
   "outputs": [],
   "source": [
    "plot(data_generator, 2)"
   ]
  },
  {
   "cell_type": "markdown",
   "metadata": {},
   "source": [
    "## Convert Image to Gray Scale<br>\n",
    "<font color='gray'>\n",
    "<span style=\"font-family:Arial; font-size:14pt; font-style:bold\">\n",
    "    Following code shows how to convert image to gray scale\n",
    "</span>\n",
    "</font>"
   ]
  },
  {
   "cell_type": "code",
   "execution_count": null,
   "metadata": {},
   "outputs": [],
   "source": [
    "# parameters in the array are:\n",
    "# 0.2989 * Red + 0.5870 * Green + 0.1140 * Blue\n",
    "def rgb2gray(rgb):\n",
    "    return np.dot(rgb[..., :3], [0.2989, 0.5870, 0.1140])"
   ]
  },
  {
   "cell_type": "code",
   "execution_count": null,
   "metadata": {},
   "outputs": [],
   "source": [
    "gray = rgb2gray(image)"
   ]
  },
  {
   "cell_type": "code",
   "execution_count": null,
   "metadata": {},
   "outputs": [],
   "source": [
    "imshow(gray, cmap=plt.get_cmap('gray'))\n",
    "show()"
   ]
  }
 ],
 "metadata": {
  "kernelspec": {
   "display_name": "Python 3 (ipykernel)",
   "language": "python",
   "name": "python3"
  },
  "language_info": {
   "codemirror_mode": {
    "name": "ipython",
    "version": 3
   },
   "file_extension": ".py",
   "mimetype": "text/x-python",
   "name": "python",
   "nbconvert_exporter": "python",
   "pygments_lexer": "ipython3",
   "version": "3.9.13"
  },
  "name": "binary-classification",
  "notebookId": 3873517491194609,
  "toc": {
   "base_numbering": 1,
   "nav_menu": {},
   "number_sections": false,
   "sideBar": true,
   "skip_h1_title": false,
   "title_cell": "Table of Contents",
   "title_sidebar": "Contents",
   "toc_cell": false,
   "toc_position": {},
   "toc_section_display": true,
   "toc_window_display": false
  }
 },
 "nbformat": 4,
 "nbformat_minor": 4
}
